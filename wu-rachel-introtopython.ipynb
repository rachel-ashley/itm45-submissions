{
 "cells": [
  {
   "cell_type": "markdown",
   "metadata": {},
   "source": [
    "195347\n",
    "<br> Wu\n",
    "<br> 2 BS ITE"
   ]
  },
  {
   "cell_type": "code",
   "execution_count": 9,
   "metadata": {},
   "outputs": [],
   "source": [
    "def three_number_average(one, two, three):\n",
    "    average = (one + two + three) / 3\n",
    "    return average\n"
   ]
  },
  {
   "cell_type": "code",
   "execution_count": 10,
   "metadata": {},
   "outputs": [
    {
     "name": "stdout",
     "output_type": "stream",
     "text": [
      "Enter first number: 2\n",
      "Enter second number: 4\n",
      "Enter third number: 6\n",
      "The average is 4.0\n"
     ]
    }
   ],
   "source": [
    "one = float(input(\"Enter first number: \"))\n",
    "two = float(input(\"Enter second number: \"))\n",
    "three = float(input(\"Enter third number: \"))\n",
    "average = three_number_average(one, two, three)\n",
    "print(\"The average is\", average)"
   ]
  },
  {
   "cell_type": "code",
   "execution_count": null,
   "metadata": {},
   "outputs": [],
   "source": []
  }
 ],
 "metadata": {
  "kernelspec": {
   "display_name": "Python 3",
   "language": "python",
   "name": "python3"
  },
  "language_info": {
   "codemirror_mode": {
    "name": "ipython",
    "version": 3
   },
   "file_extension": ".py",
   "mimetype": "text/x-python",
   "name": "python",
   "nbconvert_exporter": "python",
   "pygments_lexer": "ipython3",
   "version": "3.8.5"
  }
 },
 "nbformat": 4,
 "nbformat_minor": 4
}
