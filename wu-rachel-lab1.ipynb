{
 "cells": [
  {
   "cell_type": "markdown",
   "metadata": {},
   "source": [
    "195347\n",
    "<br>Wu\n",
    "<br>2 BS ITE"
   ]
  },
  {
   "cell_type": "markdown",
   "metadata": {},
   "source": [
    "**Problem 1**"
   ]
  },
  {
   "cell_type": "code",
   "execution_count": 3,
   "metadata": {},
   "outputs": [],
   "source": [
    "def dollars_to_pesos(usd):\n",
    "    php = usd * 50\n",
    "    return php"
   ]
  },
  {
   "cell_type": "code",
   "execution_count": 4,
   "metadata": {},
   "outputs": [
    {
     "name": "stdout",
     "output_type": "stream",
     "text": [
      "Enter the amount in US Dollars: 1\n",
      "1.0  US dollar(s) =  50.0  Philippine Pesos.\n"
     ]
    }
   ],
   "source": [
    "usd = float(input(\"Enter the amount in US Dollars: \"))\n",
    "php = dollars_to_pesos(usd)\n",
    "print(usd,\" US dollar(s) = \", php, \" Philippine Pesos.\")"
   ]
  },
  {
   "cell_type": "markdown",
   "metadata": {},
   "source": [
    "**Problem 2**"
   ]
  },
  {
   "cell_type": "code",
   "execution_count": 5,
   "metadata": {},
   "outputs": [
    {
     "name": "stdout",
     "output_type": "stream",
     "text": [
      "Enter the first integer: 55\n",
      "Enter the second integer: 3\n",
      "58\n",
      "52\n",
      "165\n",
      "18\n",
      "1\n"
     ]
    }
   ],
   "source": [
    "a = int(input(\"Enter the first integer: \"))\n",
    "b = int(input(\"Enter the second integer: \"))\n",
    "print(a+b)\n",
    "print(a-b)\n",
    "print(a*b)\n",
    "print(a//b)\n",
    "print(a%b)"
   ]
  },
  {
   "cell_type": "markdown",
   "metadata": {},
   "source": [
    "**Problem 3**"
   ]
  },
  {
   "cell_type": "code",
   "execution_count": 6,
   "metadata": {},
   "outputs": [],
   "source": [
    "def compute_bmi(kg, m):\n",
    "    bmi = kg / (m**2)\n",
    "    return bmi\n",
    "\n",
    "def convert_cm_to_m(cm):\n",
    "    m = cm/100\n",
    "    return m"
   ]
  },
  {
   "cell_type": "code",
   "execution_count": 7,
   "metadata": {},
   "outputs": [
    {
     "name": "stdout",
     "output_type": "stream",
     "text": [
      "Enter kg 65\n",
      "Enter cm 180\n",
      "BMI:  20.061728395061728\n"
     ]
    }
   ],
   "source": [
    "kg = float(input(\"Enter kg \"))\n",
    "cm = float(input(\"Enter cm \"))\n",
    "m = convert_cm_to_m(cm)\n",
    "bmi = compute_bmi(kg, m)\n",
    "print(\"BMI: \",bmi)"
   ]
  },
  {
   "cell_type": "code",
   "execution_count": null,
   "metadata": {},
   "outputs": [],
   "source": []
  }
 ],
 "metadata": {
  "kernelspec": {
   "display_name": "Python 3",
   "language": "python",
   "name": "python3"
  },
  "language_info": {
   "codemirror_mode": {
    "name": "ipython",
    "version": 3
   },
   "file_extension": ".py",
   "mimetype": "text/x-python",
   "name": "python",
   "nbconvert_exporter": "python",
   "pygments_lexer": "ipython3",
   "version": "3.8.5"
  }
 },
 "nbformat": 4,
 "nbformat_minor": 4
}
