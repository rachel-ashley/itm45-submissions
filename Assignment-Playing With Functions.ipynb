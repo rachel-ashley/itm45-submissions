{
 "cells": [
  {
   "cell_type": "markdown",
   "metadata": {},
   "source": [
    "## Playing With Functions"
   ]
  },
  {
   "cell_type": "markdown",
   "metadata": {},
   "source": [
    "These exercises are designed to strengthen your grasp on basic programming concepts. Read what is required of you carefully. For example, instructions to **return** values are not the same as those of **printing**.\n",
    "\n",
    "Make sure that cells are in **script mode** (not **interactive mode**).\n"
   ]
  },
  {
   "cell_type": "markdown",
   "metadata": {},
   "source": [
    "# 1\n",
    "### 1 point\n",
    "\n",
    "Write a function that takes the circumference of a circle as a parameter and **returns** the area of that circle.\n",
    "\n",
    "Note: Assume the value of pi is 3.1416"
   ]
  },
  {
   "cell_type": "code",
   "execution_count": 8,
   "metadata": {},
   "outputs": [
    {
     "data": {
      "text/plain": [
       "314.1400003183091"
      ]
     },
     "execution_count": 8,
     "metadata": {},
     "output_type": "execute_result"
    }
   ],
   "source": [
    "# circumference = 2 pi r\n",
    "# radius = circumference / 2 pi\n",
    "# area = pi r^2\n",
    "\n",
    "pi = 3.1416\n",
    "\n",
    "def area_of_circle(circumference):\n",
    "    radius = circumference / (2*pi)\n",
    "    area = pi * (radius**2)\n",
    "    return area\n",
    "\n",
    "area_of_circle(62.83)"
   ]
  },
  {
   "cell_type": "markdown",
   "metadata": {},
   "source": [
    "# 2\n",
    "### 2 points\n",
    "\n",
    "Write a function that takes a 5-character string as a parameter and **returns** the string in reverse order.\n",
    "\n",
    "e.g. reverseString(\"Hello\") -> \"olleH\""
   ]
  },
  {
   "cell_type": "code",
   "execution_count": 16,
   "metadata": {},
   "outputs": [
    {
     "data": {
      "text/plain": [
       "'olleH'"
      ]
     },
     "execution_count": 16,
     "metadata": {},
     "output_type": "execute_result"
    }
   ],
   "source": [
    "def reverseString(fiveletterword):\n",
    "    wordlength = len(fiveletterword)\n",
    "    reverse_fiveletterword = fiveletterword[wordlength::-1]\n",
    "    return reverse_fiveletterword\n",
    "\n",
    "reverseString(\"Hello\")"
   ]
  },
  {
   "cell_type": "markdown",
   "metadata": {},
   "source": [
    "# 3\n",
    "### 2 points\n",
    "\n",
    "Write a function that takes a positive integer as input and **returns** the sum of all positive integers smaller than and including the number itself.\n",
    "\n",
    "e.g. backAddition(5) -> 1 + 2 + 3 + 4 + 5 -> 15"
   ]
  },
  {
   "cell_type": "code",
   "execution_count": 3,
   "metadata": {},
   "outputs": [
    {
     "data": {
      "text/plain": [
       "21.0"
      ]
     },
     "execution_count": 3,
     "metadata": {},
     "output_type": "execute_result"
    }
   ],
   "source": [
    "# formula = (5*(5+1))/2 = 15\n",
    "\n",
    "def backAddition(x):\n",
    "    if x>0:\n",
    "        sumtotal = (x * (x+1))/2\n",
    "        return sumtotal\n",
    "\n",
    "backAddition(6)"
   ]
  },
  {
   "cell_type": "markdown",
   "metadata": {},
   "source": [
    "# 4\n",
    "### 5 points (all or nothing)\n",
    "\n",
    "The sum of the squares of the first ten natural numbers is,\n",
    "12 + 22 + ... + 102 = 385\n",
    "\n",
    "The square of the sum of the first ten natural numbers is,\n",
    "(1 + 2 + ... + 10)2 = 552 = 3025\n",
    "\n",
    "Hence the difference between the sum of the squares of the first ten natural numbers and the square of the sum is 3025 − 385 = 2640.\n",
    "\n",
    "Find the difference between the sum of the squares of the first one hundred natural numbers and the square of the sum.\n",
    "\n",
    "Show code that generates the answer."
   ]
  },
  {
   "cell_type": "code",
   "execution_count": 30,
   "metadata": {},
   "outputs": [
    {
     "name": "stdout",
     "output_type": "stream",
     "text": [
      "Difference:  25164150\n"
     ]
    }
   ],
   "source": [
    "# first 100 natural numbers = 1-100\n",
    "# square of sum MINUS sum of squares\n",
    "\n",
    "# square of sum formula = ((x+1)*(x/2))**2\n",
    "# sum of squares formula = (x*(x+1)*(x+(x+1)))/6\n",
    "\n",
    "sum_of_squares = 0\n",
    "sum_of_all = 0\n",
    "\n",
    "for x in range(1,101):\n",
    "    sum_of_squares = sum_of_squares + x**2\n",
    "\n",
    "for x in range(1,101):\n",
    "    sum_of_all += x\n",
    "    square_of_sum = sum_of_all**2\n",
    "\n",
    "print(\"Difference: \",square_of_sum-sum_of_squares)"
   ]
  },
  {
   "cell_type": "markdown",
   "metadata": {},
   "source": [
    "# 5\n",
    "### 5 points \n",
    "\n",
    "Write a function that allows a self-service Point of Sale system to give you the exact change when you pay in cash.\n",
    "\n",
    "The function should accept the number of cents entered by the caller of the function. It then should **display** the denominations of the coins that should be given to the buyer. The change should use as few coins as possible. Assume that the Point of Sale system is loaded with 1 cent, 5 cents, 10 cents, 25 cents and 1 peso coins.\n",
    "\n",
    "Write main program code that accepts the number of cents manually through user input and calls the function written above.\n",
    "\n",
    "**Input:** The program accepts one positive integer, ***cents***, corresponding to the total change to be given by the Point of Sale system.\n",
    "\n",
    "**Output:** The number of 1 peso, 25 cents, 10 cents, 5 cents and 1 cent coins respectively. There should be one output per line.\n",
    "\n",
    "**Sample Input 1:**  \n",
    "105\n",
    "\n",
    "**Sample Output 1**  \n",
    "1  \n",
    "0  \n",
    "0  \n",
    "1  \n",
    "0  \n",
    "\n",
    "**Sample Input 2:**  \n",
    "69  \n",
    "\n",
    "**Sample Output 2:**  \n",
    "0  \n",
    "2  \n",
    "1  \n",
    "1  \n",
    "4  \n",
    "\n",
    "\n"
   ]
  },
  {
   "cell_type": "code",
   "execution_count": 42,
   "metadata": {},
   "outputs": [
    {
     "name": "stdout",
     "output_type": "stream",
     "text": [
      "How much is your payment in cents? 106\n",
      "Your change is:\n",
      "1  pesos\n",
      "0  25-centavos\n",
      "0  10-centavos\n",
      "1  5-centavos\n",
      "1  1-centavos\n"
     ]
    }
   ],
   "source": [
    "# 69 cents = 0 1peso, 2 25cent, 1 10cent, 1 5cent, 4 1cent\n",
    "# 0 + 50 + 10 + 5 + 4 = 69\n",
    "\n",
    "def calculate_change(payment):\n",
    "    if payment%100==0:\n",
    "        print(\"Your change is:\")\n",
    "        print(payment//100,\" pesos\")\n",
    "        print((payment%100)//25, \" 25-centavos\")\n",
    "        print((payment%25)//10,\" 10-centavos\")\n",
    "        print((payment%10)//5,\" 5-centavos\")\n",
    "        print((payment%5)//1,\" 1-centavos\")\n",
    "    elif payment%25==0:\n",
    "        print(\"Your change is:\")\n",
    "        print(payment//100,\" pesos\")\n",
    "        print((payment%100)//25, \" 25-centavos\")\n",
    "        print((payment%25)//10,\" 10-centavos\")\n",
    "        print((payment%10)//5,\" 5-centavos\")\n",
    "        print((payment%5)//1,\" 1-centavos\")\n",
    "    elif payment%10==0:\n",
    "        print(\"Your change is:\")\n",
    "        print(payment//100,\" pesos\")\n",
    "        print((payment%100)//25, \" 25-centavos\")\n",
    "        print((payment%25)//10,\" 10-centavos\")\n",
    "        print((payment%10)//5,\" 5-centavos\")\n",
    "        print((payment%5)//1,\" 1-centavos\")\n",
    "    elif payment%5==0:\n",
    "        print(\"Your change is:\")\n",
    "        print(payment//100,\" pesos\")\n",
    "        print((payment%100)//25, \" 25-centavos\")\n",
    "        print((payment%25)//10,\" 10-centavos\")\n",
    "        print((payment%10)//5,\" 5-centavos\")\n",
    "        print((payment%5)//1,\" 1-centavos\")\n",
    "    elif payment%1==0:\n",
    "        print(\"Your change is:\")\n",
    "        print(payment//100,\" pesos\")\n",
    "        print((payment%100)//25, \" 25-centavos\")\n",
    "        print((payment%25)//10,\" 10-centavos\")\n",
    "        print((payment%10)//5,\" 5-centavos\")\n",
    "        print((payment%5)//1,\" 1-centavos\")\n",
    "\n",
    "payment = int(input(\"How much is your payment in cents? \"))\n",
    "calculate_change(payment)"
   ]
  },
  {
   "cell_type": "code",
   "execution_count": null,
   "metadata": {},
   "outputs": [],
   "source": []
  }
 ],
 "metadata": {
  "kernelspec": {
   "display_name": "Python 3",
   "language": "python",
   "name": "python3"
  },
  "language_info": {
   "codemirror_mode": {
    "name": "ipython",
    "version": 3
   },
   "file_extension": ".py",
   "mimetype": "text/x-python",
   "name": "python",
   "nbconvert_exporter": "python",
   "pygments_lexer": "ipython3",
   "version": "3.8.5"
  }
 },
 "nbformat": 4,
 "nbformat_minor": 2
}
